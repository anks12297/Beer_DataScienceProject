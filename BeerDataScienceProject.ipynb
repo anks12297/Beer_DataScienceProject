{
 "cells": [
  {
   "cell_type": "code",
   "execution_count": null,
   "metadata": {
    "colab": {
     "base_uri": "https://localhost:8080/"
    },
    "executionInfo": {
     "elapsed": 76517,
     "status": "ok",
     "timestamp": 1640342108525,
     "user": {
      "displayName": "ankita sontakke",
      "photoUrl": "https://lh3.googleusercontent.com/a-/AOh14GjG-GNO0FmKxJqv8ShEIf2vAWYW-yf5l9NkDiBu=s64",
      "userId": "07661496433956606698"
     },
     "user_tz": -330
    },
    "id": "dEny6XvLAM64",
    "outputId": "f5bc9d5c-11ac-4432-dc89-c63bf6ecd6b5"
   },
   "outputs": [],
   "source": [
    "# !pip install transformers\n",
    "# !pip install torch"
   ]
  },
  {
   "cell_type": "code",
   "execution_count": 6,
   "metadata": {
    "executionInfo": {
     "elapsed": 13,
     "status": "ok",
     "timestamp": 1640342772970,
     "user": {
      "displayName": "ankita sontakke",
      "photoUrl": "https://lh3.googleusercontent.com/a-/AOh14GjG-GNO0FmKxJqv8ShEIf2vAWYW-yf5l9NkDiBu=s64",
      "userId": "07661496433956606698"
     },
     "user_tz": -330
    },
    "id": "I4ZZ5vIhAJgx"
   },
   "outputs": [],
   "source": [
    "import pandas as pd\n",
    "import numpy as np"
   ]
  },
  {
   "cell_type": "code",
   "execution_count": 9,
   "metadata": {
    "colab": {
     "base_uri": "https://localhost:8080/"
    },
    "executionInfo": {
     "elapsed": 14038,
     "status": "ok",
     "timestamp": 1640342788124,
     "user": {
      "displayName": "ankita sontakke",
      "photoUrl": "https://lh3.googleusercontent.com/a-/AOh14GjG-GNO0FmKxJqv8ShEIf2vAWYW-yf5l9NkDiBu=s64",
      "userId": "07661496433956606698"
     },
     "user_tz": -330
    },
    "id": "1UlA3R4GAJg2",
    "outputId": "0945feaa-dc0a-4f69-fa2a-5e202b0b8c06",
    "scrolled": true
   },
   "outputs": [
    {
     "name": "stdout",
     "output_type": "stream",
     "text": [
      "528870\n"
     ]
    }
   ],
   "source": [
    "df=pd.read_csv(\"BeerDataScienceProject.csv\", encoding='latin-1')\n",
    "print(len(df))"
   ]
  },
  {
   "cell_type": "code",
   "execution_count": 10,
   "metadata": {
    "colab": {
     "base_uri": "https://localhost:8080/"
    },
    "executionInfo": {
     "elapsed": 34,
     "status": "ok",
     "timestamp": 1640342788126,
     "user": {
      "displayName": "ankita sontakke",
      "photoUrl": "https://lh3.googleusercontent.com/a-/AOh14GjG-GNO0FmKxJqv8ShEIf2vAWYW-yf5l9NkDiBu=s64",
      "userId": "07661496433956606698"
     },
     "user_tz": -330
    },
    "id": "rhsrAfHhAJg3",
    "outputId": "c3272bf1-85c8-4a5d-b8ea-3570d83f27af"
   },
   "outputs": [
    {
     "data": {
      "text/plain": [
       "Index(['beer_ABV', 'beer_beerId', 'beer_brewerId', 'beer_name', 'beer_style',\n",
       "       'review_appearance', 'review_palette', 'review_overall', 'review_taste',\n",
       "       'review_profileName', 'review_aroma', 'review_text', 'review_time'],\n",
       "      dtype='object')"
      ]
     },
     "execution_count": 10,
     "metadata": {},
     "output_type": "execute_result"
    }
   ],
   "source": [
    "df.columns"
   ]
  },
  {
   "cell_type": "code",
   "execution_count": 11,
   "metadata": {
    "colab": {
     "base_uri": "https://localhost:8080/",
     "height": 357
    },
    "executionInfo": {
     "elapsed": 25,
     "status": "ok",
     "timestamp": 1640342788128,
     "user": {
      "displayName": "ankita sontakke",
      "photoUrl": "https://lh3.googleusercontent.com/a-/AOh14GjG-GNO0FmKxJqv8ShEIf2vAWYW-yf5l9NkDiBu=s64",
      "userId": "07661496433956606698"
     },
     "user_tz": -330
    },
    "id": "QWNV0x5kAJg4",
    "outputId": "174c7d84-b0da-4889-8a73-f6d23dff3116",
    "scrolled": false
   },
   "outputs": [
    {
     "data": {
      "text/html": [
       "<div>\n",
       "<style scoped>\n",
       "    .dataframe tbody tr th:only-of-type {\n",
       "        vertical-align: middle;\n",
       "    }\n",
       "\n",
       "    .dataframe tbody tr th {\n",
       "        vertical-align: top;\n",
       "    }\n",
       "\n",
       "    .dataframe thead th {\n",
       "        text-align: right;\n",
       "    }\n",
       "</style>\n",
       "<table border=\"1\" class=\"dataframe\">\n",
       "  <thead>\n",
       "    <tr style=\"text-align: right;\">\n",
       "      <th></th>\n",
       "      <th>beer_ABV</th>\n",
       "      <th>beer_beerId</th>\n",
       "      <th>beer_brewerId</th>\n",
       "      <th>beer_name</th>\n",
       "      <th>beer_style</th>\n",
       "      <th>review_appearance</th>\n",
       "      <th>review_palette</th>\n",
       "      <th>review_overall</th>\n",
       "      <th>review_taste</th>\n",
       "      <th>review_profileName</th>\n",
       "      <th>review_aroma</th>\n",
       "      <th>review_text</th>\n",
       "      <th>review_time</th>\n",
       "    </tr>\n",
       "  </thead>\n",
       "  <tbody>\n",
       "    <tr>\n",
       "      <th>0</th>\n",
       "      <td>5.0</td>\n",
       "      <td>47986</td>\n",
       "      <td>10325</td>\n",
       "      <td>Sausa Weizen</td>\n",
       "      <td>Hefeweizen</td>\n",
       "      <td>2.5</td>\n",
       "      <td>2.0</td>\n",
       "      <td>1.5</td>\n",
       "      <td>1.5</td>\n",
       "      <td>stcules</td>\n",
       "      <td>1.5</td>\n",
       "      <td>A lot of foam. But a lot. In the smell some ba...</td>\n",
       "      <td>1234817823</td>\n",
       "    </tr>\n",
       "    <tr>\n",
       "      <th>1</th>\n",
       "      <td>6.2</td>\n",
       "      <td>48213</td>\n",
       "      <td>10325</td>\n",
       "      <td>Red Moon</td>\n",
       "      <td>English Strong Ale</td>\n",
       "      <td>3.0</td>\n",
       "      <td>2.5</td>\n",
       "      <td>3.0</td>\n",
       "      <td>3.0</td>\n",
       "      <td>stcules</td>\n",
       "      <td>3.0</td>\n",
       "      <td>Dark red color, light beige foam, average. In ...</td>\n",
       "      <td>1235915097</td>\n",
       "    </tr>\n",
       "    <tr>\n",
       "      <th>2</th>\n",
       "      <td>6.5</td>\n",
       "      <td>48215</td>\n",
       "      <td>10325</td>\n",
       "      <td>Black Horse Black Beer</td>\n",
       "      <td>Foreign / Export Stout</td>\n",
       "      <td>3.0</td>\n",
       "      <td>2.5</td>\n",
       "      <td>3.0</td>\n",
       "      <td>3.0</td>\n",
       "      <td>stcules</td>\n",
       "      <td>3.0</td>\n",
       "      <td>Almost totally black. Beige foam, quite compac...</td>\n",
       "      <td>1235916604</td>\n",
       "    </tr>\n",
       "  </tbody>\n",
       "</table>\n",
       "</div>"
      ],
      "text/plain": [
       "   beer_ABV  beer_beerId  beer_brewerId               beer_name  \\\n",
       "0       5.0        47986          10325            Sausa Weizen   \n",
       "1       6.2        48213          10325                Red Moon   \n",
       "2       6.5        48215          10325  Black Horse Black Beer   \n",
       "\n",
       "               beer_style  review_appearance  review_palette  review_overall  \\\n",
       "0              Hefeweizen                2.5             2.0             1.5   \n",
       "1      English Strong Ale                3.0             2.5             3.0   \n",
       "2  Foreign / Export Stout                3.0             2.5             3.0   \n",
       "\n",
       "   review_taste review_profileName  review_aroma  \\\n",
       "0           1.5            stcules           1.5   \n",
       "1           3.0            stcules           3.0   \n",
       "2           3.0            stcules           3.0   \n",
       "\n",
       "                                         review_text  review_time  \n",
       "0  A lot of foam. But a lot. In the smell some ba...   1234817823  \n",
       "1  Dark red color, light beige foam, average. In ...   1235915097  \n",
       "2  Almost totally black. Beige foam, quite compac...   1235916604  "
      ]
     },
     "execution_count": 11,
     "metadata": {},
     "output_type": "execute_result"
    }
   ],
   "source": [
    "df[:3]"
   ]
  },
  {
   "cell_type": "markdown",
   "metadata": {
    "id": "wS7q3IARAJg5"
   },
   "source": [
    "## Cleaning duplicate rows "
   ]
  },
  {
   "cell_type": "code",
   "execution_count": 12,
   "metadata": {
    "colab": {
     "base_uri": "https://localhost:8080/"
    },
    "executionInfo": {
     "elapsed": 3622,
     "status": "ok",
     "timestamp": 1640342791730,
     "user": {
      "displayName": "ankita sontakke",
      "photoUrl": "https://lh3.googleusercontent.com/a-/AOh14GjG-GNO0FmKxJqv8ShEIf2vAWYW-yf5l9NkDiBu=s64",
      "userId": "07661496433956606698"
     },
     "user_tz": -330
    },
    "id": "SbCNxrAAAJg7",
    "outputId": "f782bd67-4bff-4794-e000-67e6c54940f6"
   },
   "outputs": [
    {
     "name": "stdout",
     "output_type": "stream",
     "text": [
      "0\n"
     ]
    }
   ],
   "source": [
    "print(len(df[df.duplicated()])) # check if the data has complete duplicate row\n",
    "df=df.drop_duplicates()"
   ]
  },
  {
   "cell_type": "code",
   "execution_count": 13,
   "metadata": {
    "colab": {
     "base_uri": "https://localhost:8080/"
    },
    "executionInfo": {
     "elapsed": 834,
     "status": "ok",
     "timestamp": 1640342792552,
     "user": {
      "displayName": "ankita sontakke",
      "photoUrl": "https://lh3.googleusercontent.com/a-/AOh14GjG-GNO0FmKxJqv8ShEIf2vAWYW-yf5l9NkDiBu=s64",
      "userId": "07661496433956606698"
     },
     "user_tz": -330
    },
    "id": "mk6vVN6wAJg8",
    "outputId": "59c9d699-df7c-4753-a027-837fa82912cc"
   },
   "outputs": [
    {
     "name": "stdout",
     "output_type": "stream",
     "text": [
      "522928\n"
     ]
    }
   ],
   "source": [
    "# check if the drinker rated same beer more than once, if so, then keep the beer row with highest rating.\n",
    "df = df.sort_values('review_overall', ascending=False)\n",
    "df = df.drop_duplicates(subset=['review_profileName', 'beer_name'], keep='first')\n",
    "print(len(df))"
   ]
  },
  {
   "cell_type": "markdown",
   "metadata": {
    "id": "YsXrh-7pAJg-"
   },
   "source": [
    "## Cleaning rows with null values"
   ]
  },
  {
   "cell_type": "code",
   "execution_count": 14,
   "metadata": {
    "colab": {
     "base_uri": "https://localhost:8080/"
    },
    "executionInfo": {
     "elapsed": 1687,
     "status": "ok",
     "timestamp": 1640342794232,
     "user": {
      "displayName": "ankita sontakke",
      "photoUrl": "https://lh3.googleusercontent.com/a-/AOh14GjG-GNO0FmKxJqv8ShEIf2vAWYW-yf5l9NkDiBu=s64",
      "userId": "07661496433956606698"
     },
     "user_tz": -330
    },
    "id": "aDC06qA8AJg_",
    "outputId": "5190b28b-b4f8-46ee-c90e-328c833a5a3d"
   },
   "outputs": [
    {
     "name": "stdout",
     "output_type": "stream",
     "text": [
      "502691\n"
     ]
    }
   ],
   "source": [
    "print(len(df.dropna()))\n",
    "df=df.dropna() "
   ]
  },
  {
   "cell_type": "markdown",
   "metadata": {
    "id": "teqIgTdgAJhA"
   },
   "source": [
    "## Check if rating given by drinker is <1 or >5."
   ]
  },
  {
   "cell_type": "code",
   "execution_count": 15,
   "metadata": {
    "colab": {
     "base_uri": "https://localhost:8080/"
    },
    "executionInfo": {
     "elapsed": 25,
     "status": "ok",
     "timestamp": 1640342794238,
     "user": {
      "displayName": "ankita sontakke",
      "photoUrl": "https://lh3.googleusercontent.com/a-/AOh14GjG-GNO0FmKxJqv8ShEIf2vAWYW-yf5l9NkDiBu=s64",
      "userId": "07661496433956606698"
     },
     "user_tz": -330
    },
    "id": "7AYpOaVRAJhB",
    "outputId": "4b5956d7-d637-4a55-cfe1-c28a4ee7b5f1"
   },
   "outputs": [
    {
     "name": "stdout",
     "output_type": "stream",
     "text": [
      "502691\n"
     ]
    }
   ],
   "source": [
    "df = df[( (df['review_overall'] >= 1) | (df['review_overall'] <=5) ) |\n",
    "        ( (df['review_palette'] >= 1) | (df['review_palette'] <=5) ) |\n",
    "        ( (df['review_appearance'] >= 1) | (df['review_appearance'] <= 5) ) |\n",
    "        ( (df['review_taste'] >= 1) | (df['review_taste'] <=5) ) |\n",
    "        ( (df['review_aroma'] >= 1) | (df['review_aroma'] <=5) ) ]\n",
    "print(len(df))"
   ]
  },
  {
   "cell_type": "markdown",
   "metadata": {
    "id": "boeXzflxAJhC"
   },
   "source": [
    "# 1. Rank top 3 Breweries which produce the strongest beers?"
   ]
  },
  {
   "cell_type": "code",
   "execution_count": 1,
   "metadata": {
    "id": "y-Gj0qbKAJhD",
    "outputId": "cf4b225e-3d76-4d10-ecb7-334a3edeeeaf"
   },
   "outputs": [],
   "source": [
    "avg_abv = df.groupby(['beer_brewerId'])['beer_ABV'].mean()\n",
    "# print(type(avg_abv))\n",
    "top3 = pd.DataFrame(avg_abv)\n",
    "top3 = top3.sort_values(by=['beer_ABV'], ascending=False)[:3]\n",
    "top3"
   ]
  },
  {
   "cell_type": "markdown",
   "metadata": {
    "id": "OnQU1nKOAJhE"
   },
   "source": [
    "# 2. Which year did beers enjoy the highest ratings?"
   ]
  },
  {
   "cell_type": "code",
   "execution_count": 16,
   "metadata": {
    "id": "MNdn93tDAJhF",
    "outputId": "25c6d1ba-f68b-4270-9614-210851b702a5"
   },
   "outputs": [
    {
     "data": {
      "text/plain": [
       "dtype('int64')"
      ]
     },
     "execution_count": 16,
     "metadata": {},
     "output_type": "execute_result"
    }
   ],
   "source": [
    "df['review_time'].dtypes"
   ]
  },
  {
   "cell_type": "code",
   "execution_count": 17,
   "metadata": {
    "id": "Qguat5n_AJhG"
   },
   "outputs": [],
   "source": [
    "time=pd.to_datetime(df['review_time'], unit='s')\n",
    "df['review_year']=pd.DatetimeIndex(time).year"
   ]
  },
  {
   "cell_type": "code",
   "execution_count": 18,
   "metadata": {
    "id": "9Fyzat6HAJhG",
    "outputId": "f4bc9c26-4bfc-47da-eb9d-5303ba4af78b"
   },
   "outputs": [
    {
     "name": "stderr",
     "output_type": "stream",
     "text": [
      "/home/sontakke/anaconda3/lib/python3.7/site-packages/ipykernel_launcher.py:1: FutureWarning: Indexing with multiple keys (implicitly converted to a tuple of keys) will be deprecated, use a list instead.\n",
      "  \"\"\"Entry point for launching an IPython kernel.\n"
     ]
    },
    {
     "name": "stdout",
     "output_type": "stream",
     "text": [
      "In  2002 year, beers enjoyed with the highest ratings\n"
     ]
    },
    {
     "data": {
      "text/html": [
       "<div>\n",
       "<style scoped>\n",
       "    .dataframe tbody tr th:only-of-type {\n",
       "        vertical-align: middle;\n",
       "    }\n",
       "\n",
       "    .dataframe tbody tr th {\n",
       "        vertical-align: top;\n",
       "    }\n",
       "\n",
       "    .dataframe thead th {\n",
       "        text-align: right;\n",
       "    }\n",
       "</style>\n",
       "<table border=\"1\" class=\"dataframe\">\n",
       "  <thead>\n",
       "    <tr style=\"text-align: right;\">\n",
       "      <th></th>\n",
       "      <th>beer_beerId</th>\n",
       "      <th>review_overall</th>\n",
       "      <th>review_taste</th>\n",
       "      <th>review_aroma</th>\n",
       "      <th>review_appearance</th>\n",
       "      <th>review_palette</th>\n",
       "      <th>beer_ABV</th>\n",
       "      <th>review year</th>\n",
       "    </tr>\n",
       "  </thead>\n",
       "  <tbody>\n",
       "    <tr>\n",
       "      <th>0</th>\n",
       "      <td>1734</td>\n",
       "      <td>5.0</td>\n",
       "      <td>5.0</td>\n",
       "      <td>5.0</td>\n",
       "      <td>5.0</td>\n",
       "      <td>5.0</td>\n",
       "      <td>10.0</td>\n",
       "      <td>2002</td>\n",
       "    </tr>\n",
       "  </tbody>\n",
       "</table>\n",
       "</div>"
      ],
      "text/plain": [
       "   beer_beerId  review_overall  review_taste  review_aroma  review_appearance  \\\n",
       "0         1734             5.0           5.0           5.0                5.0   \n",
       "\n",
       "   review_palette  beer_ABV  review year  \n",
       "0             5.0      10.0         2002  "
      ]
     },
     "execution_count": 18,
     "metadata": {},
     "output_type": "execute_result"
    }
   ],
   "source": [
    "avg_review = df.groupby(['beer_beerId'])['review_overall','review_taste','review_aroma',\n",
    "                                        'review_appearance','review_palette','beer_ABV'].mean()\n",
    "# print(type(avg_review))\n",
    "top1 = pd.DataFrame(avg_review)\n",
    "top1 = top1.sort_values(['review_overall', 'review_aroma','review_appearance','review_palette',\n",
    "                         'review_taste','beer_ABV'], ascending=[False,False, False, False, False,False])\n",
    "top1=top1[:1].reset_index()\n",
    "top1['review year']=df[df['beer_beerId']==top1['beer_beerId'][0]]['review_year'].values[0]\n",
    "print(\"In \",top1['review year'][0],\"year, beers enjoyed with the highest ratings\")\n",
    "top1"
   ]
  },
  {
   "cell_type": "markdown",
   "metadata": {
    "id": "ejEK0xY-AJhI"
   },
   "source": [
    "# 3. Based on the user’s ratings which factors are important among taste, aroma, appearance, and palette?"
   ]
  },
  {
   "cell_type": "markdown",
   "metadata": {
    "id": "W6U1WYN8AJhI"
   },
   "source": [
    "## Approach 1: "
   ]
  },
  {
   "cell_type": "code",
   "execution_count": 19,
   "metadata": {
    "id": "bv395v7KAJhJ",
    "outputId": "ef4317c3-003b-4700-f365-2fdd4dd43936",
    "scrolled": true
   },
   "outputs": [
    {
     "data": {
      "text/html": [
       "<div>\n",
       "<style scoped>\n",
       "    .dataframe tbody tr th:only-of-type {\n",
       "        vertical-align: middle;\n",
       "    }\n",
       "\n",
       "    .dataframe tbody tr th {\n",
       "        vertical-align: top;\n",
       "    }\n",
       "\n",
       "    .dataframe thead th {\n",
       "        text-align: right;\n",
       "    }\n",
       "</style>\n",
       "<table border=\"1\" class=\"dataframe\">\n",
       "  <thead>\n",
       "    <tr style=\"text-align: right;\">\n",
       "      <th></th>\n",
       "      <th>review_overall</th>\n",
       "      <th>review_taste</th>\n",
       "      <th>review_aroma</th>\n",
       "      <th>review_appearance</th>\n",
       "      <th>review_palette</th>\n",
       "    </tr>\n",
       "  </thead>\n",
       "  <tbody>\n",
       "    <tr>\n",
       "      <th>review_overall</th>\n",
       "      <td>1.000000</td>\n",
       "      <td>0.688862</td>\n",
       "      <td>0.780238</td>\n",
       "      <td>0.482756</td>\n",
       "      <td>0.597737</td>\n",
       "    </tr>\n",
       "    <tr>\n",
       "      <th>review_taste</th>\n",
       "      <td>0.688862</td>\n",
       "      <td>1.000000</td>\n",
       "      <td>0.722306</td>\n",
       "      <td>0.551515</td>\n",
       "      <td>0.600343</td>\n",
       "    </tr>\n",
       "    <tr>\n",
       "      <th>review_aroma</th>\n",
       "      <td>0.780238</td>\n",
       "      <td>0.722306</td>\n",
       "      <td>1.000000</td>\n",
       "      <td>0.530705</td>\n",
       "      <td>0.702963</td>\n",
       "    </tr>\n",
       "    <tr>\n",
       "      <th>review_appearance</th>\n",
       "      <td>0.482756</td>\n",
       "      <td>0.551515</td>\n",
       "      <td>0.530705</td>\n",
       "      <td>1.000000</td>\n",
       "      <td>0.544308</td>\n",
       "    </tr>\n",
       "    <tr>\n",
       "      <th>review_palette</th>\n",
       "      <td>0.597737</td>\n",
       "      <td>0.600343</td>\n",
       "      <td>0.702963</td>\n",
       "      <td>0.544308</td>\n",
       "      <td>1.000000</td>\n",
       "    </tr>\n",
       "  </tbody>\n",
       "</table>\n",
       "</div>"
      ],
      "text/plain": [
       "                   review_overall  review_taste  review_aroma  \\\n",
       "review_overall           1.000000      0.688862      0.780238   \n",
       "review_taste             0.688862      1.000000      0.722306   \n",
       "review_aroma             0.780238      0.722306      1.000000   \n",
       "review_appearance        0.482756      0.551515      0.530705   \n",
       "review_palette           0.597737      0.600343      0.702963   \n",
       "\n",
       "                   review_appearance  review_palette  \n",
       "review_overall              0.482756        0.597737  \n",
       "review_taste                0.551515        0.600343  \n",
       "review_aroma                0.530705        0.702963  \n",
       "review_appearance           1.000000        0.544308  \n",
       "review_palette              0.544308        1.000000  "
      ]
     },
     "execution_count": 19,
     "metadata": {},
     "output_type": "execute_result"
    }
   ],
   "source": [
    "features = df[['review_overall','review_taste','review_aroma','review_appearance','review_palette']]\n",
    "pearson_corr = features.corr()\n",
    "pearson_corr"
   ]
  },
  {
   "cell_type": "code",
   "execution_count": 20,
   "metadata": {
    "id": "Xl21yutsAJhJ",
    "outputId": "31112409-24f0-4874-deb4-b3be06fdcb9a",
    "scrolled": true
   },
   "outputs": [
    {
     "data": {
      "image/png": "[encoded data removed]",
      "text/plain": [
       "<Figure size 432x288 with 2 Axes>"
      ]
     },
     "metadata": {
      "needs_background": "light"
     },
     "output_type": "display_data"
    }
   ],
   "source": [
    "import seaborn as sns\n",
    "import matplotlib.pyplot as plt\n",
    "\n",
    "sns.heatmap(pearson_corr, annot=True)\n",
    "plt.show()"
   ]
  },
  {
   "cell_type": "code",
   "execution_count": 21,
   "metadata": {
    "id": "xoHpqH9tAJhK",
    "outputId": "52e7591c-2f16-44c6-d6a8-a3b74dddd567"
   },
   "outputs": [
    {
     "name": "stdout",
     "output_type": "stream",
     "text": [
      "The above heat map tells that aroma is most important factor followed by taste, palette and appearance \n"
     ]
    }
   ],
   "source": [
    "print(\"The above heat map tells that aroma is most important factor followed by taste, palette and appearance \")"
   ]
  },
  {
   "cell_type": "markdown",
   "metadata": {
    "id": "kwIkC79sAJhK"
   },
   "source": [
    "## Approach 2:"
   ]
  },
  {
   "cell_type": "code",
   "execution_count": 22,
   "metadata": {
    "id": "IDh-igCcAJhL",
    "outputId": "391fd2b1-4ac2-4164-f4a8-5af0f78046ae"
   },
   "outputs": [
    {
     "name": "stdout",
     "output_type": "stream",
     "text": [
      "Feature:  review_taste  || Score:  0.25733598215962894\n",
      "Feature:  review_aroma  || Score:  0.5523229356661743\n",
      "Feature:  review_appearance  || Score:  0.03413487855231801\n",
      "Feature:  review_palette  || Score:  0.045062504625312694\n"
     ]
    },
    {
     "data": {
      "image/png": "[encoded data removed]",
      "text/plain": [
       "<Figure size 432x288 with 1 Axes>"
      ]
     },
     "metadata": {
      "needs_background": "light"
     },
     "output_type": "display_data"
    },
    {
     "name": "stdout",
     "output_type": "stream",
     "text": [
      "aroma is most important among all features.\n"
     ]
    }
   ],
   "source": [
    "# Another way to find important feature \n",
    "from sklearn.model_selection import train_test_split\n",
    "features = df[['review_overall','review_taste','review_aroma','review_appearance','review_palette']]\n",
    "X = features.drop('review_overall', axis=1)\n",
    "y = features['review_overall']\n",
    "X_train, X_test, y_train, y_test = train_test_split(X, y, test_size=0.25, random_state=42)\n",
    "\n",
    "\n",
    "from sklearn.datasets import make_regression\n",
    "from sklearn.linear_model import LinearRegression\n",
    "from matplotlib import pyplot\n",
    "\n",
    "model = LinearRegression()\n",
    "model.fit(X_train, y_train)\n",
    "\n",
    "importance = model.coef_\n",
    "\n",
    "for ff,ii in zip(features.columns[1:],importance):\n",
    "    print('Feature: ',ff,' || Score: ',ii)\n",
    "\n",
    "pyplot.bar([x for x in range(len(importance))], importance)\n",
    "pyplot.show()\n",
    "\n",
    "print(\"aroma is most important among all features.\")"
   ]
  },
  {
   "cell_type": "markdown",
   "metadata": {
    "id": "iSet8f3pAJhM"
   },
   "source": [
    "# 4. If you were to recommend 3 beers to your friends based on this data which ones will you recommend?"
   ]
  },
  {
   "cell_type": "code",
   "execution_count": 23,
   "metadata": {
    "id": "p0Swuv1eAJhM",
    "outputId": "0df5f9ee-7a6b-4f12-b5f4-a46a20c1a7f1"
   },
   "outputs": [
    {
     "name": "stdout",
     "output_type": "stream",
     "text": [
      "I will recommend following 3 beers:  [1734, 29423, 45944]\n"
     ]
    },
    {
     "name": "stderr",
     "output_type": "stream",
     "text": [
      "/home/sontakke/anaconda3/lib/python3.7/site-packages/ipykernel_launcher.py:1: FutureWarning: Indexing with multiple keys (implicitly converted to a tuple of keys) will be deprecated, use a list instead.\n",
      "  \"\"\"Entry point for launching an IPython kernel.\n"
     ]
    },
    {
     "data": {
      "text/html": [
       "<div>\n",
       "<style scoped>\n",
       "    .dataframe tbody tr th:only-of-type {\n",
       "        vertical-align: middle;\n",
       "    }\n",
       "\n",
       "    .dataframe tbody tr th {\n",
       "        vertical-align: top;\n",
       "    }\n",
       "\n",
       "    .dataframe thead th {\n",
       "        text-align: right;\n",
       "    }\n",
       "</style>\n",
       "<table border=\"1\" class=\"dataframe\">\n",
       "  <thead>\n",
       "    <tr style=\"text-align: right;\">\n",
       "      <th></th>\n",
       "      <th>beer_beerId</th>\n",
       "      <th>review_overall</th>\n",
       "      <th>review_taste</th>\n",
       "      <th>review_aroma</th>\n",
       "      <th>review_appearance</th>\n",
       "      <th>review_palette</th>\n",
       "      <th>beer_ABV</th>\n",
       "    </tr>\n",
       "  </thead>\n",
       "  <tbody>\n",
       "    <tr>\n",
       "      <th>0</th>\n",
       "      <td>1734</td>\n",
       "      <td>5.0</td>\n",
       "      <td>5.0</td>\n",
       "      <td>5.0</td>\n",
       "      <td>5.0</td>\n",
       "      <td>5.0</td>\n",
       "      <td>10.0</td>\n",
       "    </tr>\n",
       "    <tr>\n",
       "      <th>1</th>\n",
       "      <td>29423</td>\n",
       "      <td>5.0</td>\n",
       "      <td>5.0</td>\n",
       "      <td>5.0</td>\n",
       "      <td>5.0</td>\n",
       "      <td>5.0</td>\n",
       "      <td>9.5</td>\n",
       "    </tr>\n",
       "    <tr>\n",
       "      <th>2</th>\n",
       "      <td>45944</td>\n",
       "      <td>5.0</td>\n",
       "      <td>5.0</td>\n",
       "      <td>5.0</td>\n",
       "      <td>5.0</td>\n",
       "      <td>5.0</td>\n",
       "      <td>9.0</td>\n",
       "    </tr>\n",
       "  </tbody>\n",
       "</table>\n",
       "</div>"
      ],
      "text/plain": [
       "   beer_beerId  review_overall  review_taste  review_aroma  review_appearance  \\\n",
       "0         1734             5.0           5.0           5.0                5.0   \n",
       "1        29423             5.0           5.0           5.0                5.0   \n",
       "2        45944             5.0           5.0           5.0                5.0   \n",
       "\n",
       "   review_palette  beer_ABV  \n",
       "0             5.0      10.0  \n",
       "1             5.0       9.5  \n",
       "2             5.0       9.0  "
      ]
     },
     "execution_count": 23,
     "metadata": {},
     "output_type": "execute_result"
    }
   ],
   "source": [
    "avg_review = df.groupby(['beer_beerId'])['review_overall','review_taste','review_aroma',\n",
    "                                        'review_appearance','review_palette','beer_ABV'].mean()\n",
    "# print(type(avg_review))\n",
    "top3 = pd.DataFrame(avg_review)\n",
    "top3 = top3.sort_values(['review_overall', 'review_aroma','review_appearance','review_palette',\n",
    "                         'review_taste','beer_ABV'], ascending=[False,False, False, False, False,False])\n",
    "top3=top3[:3].reset_index()\n",
    "print('I will recommend following 3 beers: ', top3['beer_beerId'].tolist())\n",
    "top3"
   ]
  },
  {
   "cell_type": "markdown",
   "metadata": {
    "id": "2ow8Lk8_AJhN"
   },
   "source": [
    "# 5. Which Beer style seems to be the favorite based on reviews written by users? "
   ]
  },
  {
   "cell_type": "markdown",
   "metadata": {
    "id": "PrEKClCBAJhO"
   },
   "source": [
    "### Following are the two approaches to answer above question"
   ]
  },
  {
   "cell_type": "markdown",
   "metadata": {
    "id": "zhsTmzIPAJhO"
   },
   "source": [
    "##  Approach 1: using pretrained transformer model from Huggingface"
   ]
  },
  {
   "cell_type": "code",
   "execution_count": 24,
   "metadata": {
    "id": "tOm0_JXMAJhO",
    "outputId": "768e4224-3dfa-42f3-efbc-5676ab5ed945"
   },
   "outputs": [],
   "source": [
    "# only 1/5 apart of the whole dataset is considered because of computational constrain\n",
    "reviewTextData = df[['beer_beerId','beer_name','beer_ABV','beer_style','review_overall','review_text']]\n",
    "reviewTextData = reviewTextData.loc[reviewTextData['review_overall'] > 4]\n",
    "len(reviewTextData)"
   ]
  },
  {
   "cell_type": "code",
   "execution_count": 25,
   "metadata": {
    "id": "AtIfgDREAJhP"
   },
   "outputs": [],
   "source": [
    "from transformers import pipeline                                                   \n",
    "from torch.utils.data import Dataset                                                \n",
    "import tqdm                                                                         \n",
    "from transformers import pipeline, AutoModelForTokenClassification, AutoTokenizer,AutoModelForSequenceClassification\n",
    "\n",
    "# tokenizer = AutoTokenizer.from_pretrained(\"bert-base-cased\",model_max_length=512)\n",
    "\n",
    "model_name = \"distilbert-base-uncased-finetuned-sst-2-english\"\n",
    "model = AutoModelForSequenceClassification.from_pretrained(model_name)\n",
    "tokenizer = AutoTokenizer.from_pretrained(model_name,model_max_length=512,model_max_len=512)\n",
    "pipe = pipeline('sentiment-analysis', model=model, tokenizer=tokenizer, device=0)\n",
    "\n",
    "class MyDataset(Dataset): \n",
    "    def __init__(self,df): \n",
    "        self.text = df['review_text'].tolist()\n",
    "        \n",
    "    def __len__(self):                                                              \n",
    "        return len(self.text)                                                                 \n",
    "\n",
    "    def __getitem__(self, index):                                                       \n",
    "        return  self.text[index]                                             \n",
    "\n",
    "\n",
    "dataset = MyDataset(reviewTextData)   \n",
    "batch_size=128\n",
    "scores=[]   \n",
    "# this will take an hour\n",
    "for out in tqdm.tqdm(pipe(dataset, batch_size=batch_size, padding=True, truncation=True), total=len(dataset)):              \n",
    "    scores.append(out)"
   ]
  },
  {
   "cell_type": "code",
   "execution_count": 26,
   "metadata": {
    "id": "dGtIeNtsAJhP"
   },
   "outputs": [],
   "source": [
    "sentiment_scores=[]\n",
    "for ii in scores:\n",
    "    if ii['label']=='NEGATIVE':\n",
    "        sentiment_scores.append(ii['score']*(-1))\n",
    "    else:\n",
    "        sentiment_scores.append(ii['score'])"
   ]
  },
  {
   "cell_type": "code",
   "execution_count": 27,
   "metadata": {
    "id": "eNHFIyDcAJhQ"
   },
   "outputs": [],
   "source": [
    "reviewTextData['sentiment_scores'] = sentiment_scores"
   ]
  },
  {
   "cell_type": "code",
   "execution_count": 30,
   "metadata": {
    "id": "DdMz4aNBAJhQ",
    "outputId": "9aeef69b-e96b-441e-8afe-4ae63f2590ea"
   },
   "outputs": [
    {
     "data": {
      "text/html": [
       "<div>\n",
       "<style scoped>\n",
       "    .dataframe tbody tr th:only-of-type {\n",
       "        vertical-align: middle;\n",
       "    }\n",
       "\n",
       "    .dataframe tbody tr th {\n",
       "        vertical-align: top;\n",
       "    }\n",
       "\n",
       "    .dataframe thead th {\n",
       "        text-align: right;\n",
       "    }\n",
       "</style>\n",
       "<table border=\"1\" class=\"dataframe\">\n",
       "  <thead>\n",
       "    <tr style=\"text-align: right;\">\n",
       "      <th></th>\n",
       "      <th>beer_beerId</th>\n",
       "      <th>beer_name</th>\n",
       "      <th>beer_ABV</th>\n",
       "      <th>beer_style</th>\n",
       "      <th>review_overall</th>\n",
       "      <th>review_text</th>\n",
       "      <th>senti_scores</th>\n",
       "    </tr>\n",
       "  </thead>\n",
       "  <tbody>\n",
       "    <tr>\n",
       "      <th>77010</th>\n",
       "      <td>846</td>\n",
       "      <td>Samuel Adams Scotch Ale</td>\n",
       "      <td>5.4</td>\n",
       "      <td>Scotch Ale / Wee Heavy</td>\n",
       "      <td>5.0</td>\n",
       "      <td>Cool tartan \"kilt\" pattern bottle with our fri...</td>\n",
       "      <td>0.991981</td>\n",
       "    </tr>\n",
       "    <tr>\n",
       "      <th>115943</th>\n",
       "      <td>1585</td>\n",
       "      <td>Raspberry Tart</td>\n",
       "      <td>4.0</td>\n",
       "      <td>Fruit / Vegetable Beer</td>\n",
       "      <td>5.0</td>\n",
       "      <td>Basically a perfect beer experience -- excepti...</td>\n",
       "      <td>0.999142</td>\n",
       "    </tr>\n",
       "    <tr>\n",
       "      <th>28046</th>\n",
       "      <td>1607</td>\n",
       "      <td>Sierra Nevada India Pale Ale</td>\n",
       "      <td>6.8</td>\n",
       "      <td>English India Pale Ale (IPA)</td>\n",
       "      <td>5.0</td>\n",
       "      <td>This is my first review for BA, so I should ma...</td>\n",
       "      <td>0.993469</td>\n",
       "    </tr>\n",
       "    <tr>\n",
       "      <th>116191</th>\n",
       "      <td>56738</td>\n",
       "      <td>Moon Man</td>\n",
       "      <td>5.0</td>\n",
       "      <td>American Pale Ale (APA)</td>\n",
       "      <td>5.0</td>\n",
       "      <td>[L] Moon man pours a golden color with a spott...</td>\n",
       "      <td>0.992489</td>\n",
       "    </tr>\n",
       "    <tr>\n",
       "      <th>60019</th>\n",
       "      <td>11922</td>\n",
       "      <td>Titan IPA</td>\n",
       "      <td>7.1</td>\n",
       "      <td>American IPA</td>\n",
       "      <td>5.0</td>\n",
       "      <td>A- Almost a tan orange color. Great carbonatio...</td>\n",
       "      <td>0.998819</td>\n",
       "    </tr>\n",
       "  </tbody>\n",
       "</table>\n",
       "</div>"
      ],
      "text/plain": [
       "        beer_beerId                     beer_name  beer_ABV  \\\n",
       "77010           846       Samuel Adams Scotch Ale       5.4   \n",
       "115943         1585                Raspberry Tart       4.0   \n",
       "28046          1607  Sierra Nevada India Pale Ale       6.8   \n",
       "116191        56738                      Moon Man       5.0   \n",
       "60019         11922                     Titan IPA       7.1   \n",
       "\n",
       "                          beer_style  review_overall  \\\n",
       "77010         Scotch Ale / Wee Heavy             5.0   \n",
       "115943        Fruit / Vegetable Beer             5.0   \n",
       "28046   English India Pale Ale (IPA)             5.0   \n",
       "116191       American Pale Ale (APA)             5.0   \n",
       "60019                   American IPA             5.0   \n",
       "\n",
       "                                              review_text  senti_scores  \n",
       "77010   Cool tartan \"kilt\" pattern bottle with our fri...      0.991981  \n",
       "115943  Basically a perfect beer experience -- excepti...      0.999142  \n",
       "28046   This is my first review for BA, so I should ma...      0.993469  \n",
       "116191  [L] Moon man pours a golden color with a spott...      0.992489  \n",
       "60019   A- Almost a tan orange color. Great carbonatio...      0.998819  "
      ]
     },
     "execution_count": 30,
     "metadata": {},
     "output_type": "execute_result"
    }
   ],
   "source": [
    "reviewTextData=reviewTextData.sort_values('review_overall', ascending=False)\n",
    "reviewTextData[:5]"
   ]
  },
  {
   "cell_type": "code",
   "execution_count": 31,
   "metadata": {
    "id": "pcZYl_2qAJhQ",
    "outputId": "3da807a6-03cb-498f-8c93-4515877f9df6"
   },
   "outputs": [
    {
     "data": {
      "text/plain": [
       "beer_style\n",
       "Happoshu                        0.999603\n",
       "American Dark Wheat Ale         0.991594\n",
       "Gose                            0.980877\n",
       "Chile Beer                      0.941301\n",
       "Dortmunder / Export Lager       0.924558\n",
       "Belgian IPA                     0.918587\n",
       "Vienna Lager                    0.917280\n",
       "Rye Beer                        0.915521\n",
       "Czech Pilsener                  0.915015\n",
       "English India Pale Ale (IPA)    0.907575\n",
       "Name: senti_scores, dtype: float64"
      ]
     },
     "execution_count": 31,
     "metadata": {},
     "output_type": "execute_result"
    }
   ],
   "source": [
    "reviewTextDataGrp = reviewTextData.groupby('beer_style')['senti_scores'].mean()\n",
    "reviewTextDataGrp.sort_values(ascending=False)[0:10]"
   ]
  },
  {
   "cell_type": "code",
   "execution_count": 28,
   "metadata": {
    "id": "aW-9nvKrAJhR"
   },
   "outputs": [],
   "source": [
    "df1=pd.read_csv('/home/sontakke/Desktop/job/BeerDataScienceProject_sentiment.csv')"
   ]
  },
  {
   "cell_type": "code",
   "execution_count": 29,
   "metadata": {
    "id": "QWdWirzeAJhR"
   },
   "outputs": [],
   "source": [
    "reviewTextData=df1"
   ]
  },
  {
   "cell_type": "markdown",
   "metadata": {
    "id": "3nmFu-yjAJhR"
   },
   "source": [
    "## Approach 2: using Sentiment Analyzer from NLTK"
   ]
  },
  {
   "cell_type": "code",
   "execution_count": 38,
   "metadata": {
    "id": "3OD2S1DAAJhR"
   },
   "outputs": [
    {
     "data": {
      "text/plain": [
       "502691"
      ]
     },
     "execution_count": 38,
     "metadata": {},
     "output_type": "execute_result"
    }
   ],
   "source": [
    "reviewTextData = df[['beer_beerId','beer_name','beer_ABV','beer_style','review_overall','review_text']]\n",
    "# reviewTextData = reviewTextData.loc[reviewTextData['review_overall'] >= 4]\n",
    "reviewTextData.reset_index(inplace=True)\n",
    "len(reviewTextData)"
   ]
  },
  {
   "cell_type": "code",
   "execution_count": 39,
   "metadata": {
    "id": "vgBI6NFyAJhS"
   },
   "outputs": [],
   "source": [
    "import re\n",
    "def deconstruct(phrase):\n",
    "    phrase = re.sub(r\"won't\", \"will not\", phrase)\n",
    "    phrase = re.sub(r\"can\\'t\", \"can not\", phrase)\n",
    "    phrase = re.sub(r\"\\'t\", \" not\", phrase)\n",
    "    phrase = re.sub(r\"n\\'t\", \" not\", phrase)\n",
    "    return phrase"
   ]
  },
  {
   "cell_type": "code",
   "execution_count": 40,
   "metadata": {
    "id": "Y-yGmYI6AJhS"
   },
   "outputs": [],
   "source": [
    "preprocessed_reviews = []\n",
    "for sentance in (reviewTextData['review_text'].values): \n",
    "    sentance = deconstruct(sentance) \n",
    "    sentance = re.sub(\"\\S*\\d\\S*\", \"\", sentance).strip()\n",
    "    preprocessed_reviews.append(sentance) "
   ]
  },
  {
   "cell_type": "code",
   "execution_count": 41,
   "metadata": {
    "id": "jfuMkzICAJhS",
    "outputId": "e2b12df2-0c34-49ce-8ec0-52e6c6fc5724"
   },
   "outputs": [
    {
     "name": "stderr",
     "output_type": "stream",
     "text": [
      "/home/sontakke/anaconda3/lib/python3.7/site-packages/ipykernel_launcher.py:1: SettingWithCopyWarning: \n",
      "A value is trying to be set on a copy of a slice from a DataFrame.\n",
      "Try using .loc[row_indexer,col_indexer] = value instead\n",
      "\n",
      "See the caveats in the documentation: https://pandas.pydata.org/pandas-docs/stable/user_guide/indexing.html#returning-a-view-versus-a-copy\n",
      "  \"\"\"Entry point for launching an IPython kernel.\n"
     ]
    }
   ],
   "source": [
    "reviewTextData['preprocessed_text'] = preprocessed_reviews"
   ]
  },
  {
   "cell_type": "code",
   "execution_count": 42,
   "metadata": {
    "id": "l-v9NxGMAJhT",
    "outputId": "dc173816-5df4-4ba8-df69-5bc9473fd372"
   },
   "outputs": [
    {
     "name": "stderr",
     "output_type": "stream",
     "text": [
      "[nltk_data] Downloading package vader_lexicon to\n",
      "[nltk_data]     /home/sontakke/nltk_data...\n",
      "[nltk_data]   Package vader_lexicon is already up-to-date!\n"
     ]
    }
   ],
   "source": [
    "import nltk\n",
    "nltk.download('vader_lexicon')\n",
    "from nltk.sentiment.vader import SentimentIntensityAnalyzer"
   ]
  },
  {
   "cell_type": "code",
   "execution_count": 43,
   "metadata": {
    "id": "8PDdqff6AJhT"
   },
   "outputs": [],
   "source": [
    "# Instantiating Sentiment Analyzer\n",
    "senti = SentimentIntensityAnalyzer()"
   ]
  },
  {
   "cell_type": "code",
   "execution_count": 44,
   "metadata": {
    "id": "H5LeyoyNAJhT",
    "outputId": "07f32d71-30c6-4652-dafc-3cf27950eb83"
   },
   "outputs": [
    {
     "name": "stderr",
     "output_type": "stream",
     "text": [
      "/home/sontakke/anaconda3/lib/python3.7/site-packages/ipykernel_launcher.py:1: SettingWithCopyWarning: \n",
      "A value is trying to be set on a copy of a slice from a DataFrame.\n",
      "Try using .loc[row_indexer,col_indexer] = value instead\n",
      "\n",
      "See the caveats in the documentation: https://pandas.pydata.org/pandas-docs/stable/user_guide/indexing.html#returning-a-view-versus-a-copy\n",
      "  \"\"\"Entry point for launching an IPython kernel.\n"
     ]
    }
   ],
   "source": [
    "reviewTextData['polarity_score'] = reviewTextData['preprocessed_text'].apply(lambda x: senti.polarity_scores(x)['compound'])\n"
   ]
  },
  {
   "cell_type": "code",
   "execution_count": 45,
   "metadata": {
    "id": "rwkWylSmAJhU",
    "outputId": "f150faae-2162-4e21-96f1-4a5910d40e49",
    "scrolled": true
   },
   "outputs": [
    {
     "data": {
      "text/plain": [
       "beer_style\n",
       "Quadrupel (Quad)                    0.856687\n",
       "Dortmunder / Export Lager           0.852883\n",
       "Flanders Red Ale                    0.851888\n",
       "Roggenbier                          0.851769\n",
       "Braggot                             0.850409\n",
       "Kvass                               0.850273\n",
       "American Double / Imperial Stout    0.847080\n",
       "Wheatwine                           0.840098\n",
       "Eisbock                             0.836985\n",
       "Belgian Strong Dark Ale             0.832818\n",
       "Name: polarity_score, dtype: float64"
      ]
     },
     "execution_count": 45,
     "metadata": {},
     "output_type": "execute_result"
    }
   ],
   "source": [
    "reviewTextDataGrp = reviewTextData.groupby('beer_style')['polarity_score'].mean()\n",
    "reviewTextDataGrp.sort_values(ascending=False)[0:10]"
   ]
  },
  {
   "cell_type": "code",
   "execution_count": 46,
   "metadata": {
    "id": "FtOJTG6mAJhU",
    "outputId": "d9995ee0-e773-4414-d725-189e3af87b24",
    "scrolled": true
   },
   "outputs": [
    {
     "name": "stdout",
     "output_type": "stream",
     "text": [
      "Quadrupel (Quad) is the beer style seems to be the favorite based on reviews written by users\n"
     ]
    }
   ],
   "source": [
    "print(\"Quadrupel (Quad) is the beer style seems to be the favorite based on reviews written by users\")"
   ]
  },
  {
   "cell_type": "markdown",
   "metadata": {
    "id": "Js8cZrL1AJhU"
   },
   "source": [
    "# 6. How does written review compare to overall review score for the beer styles?"
   ]
  },
  {
   "cell_type": "code",
   "execution_count": 47,
   "metadata": {
    "id": "BQ1KCY0fAJhV",
    "outputId": "60e2f22b-7d86-4986-9049-2b12c40915c7"
   },
   "outputs": [
    {
     "name": "stderr",
     "output_type": "stream",
     "text": [
      "/home/sontakke/anaconda3/lib/python3.7/site-packages/ipykernel_launcher.py:1: FutureWarning: Indexing with multiple keys (implicitly converted to a tuple of keys) will be deprecated, use a list instead.\n",
      "  \"\"\"Entry point for launching an IPython kernel.\n"
     ]
    },
    {
     "data": {
      "text/html": [
       "<div>\n",
       "<style scoped>\n",
       "    .dataframe tbody tr th:only-of-type {\n",
       "        vertical-align: middle;\n",
       "    }\n",
       "\n",
       "    .dataframe tbody tr th {\n",
       "        vertical-align: top;\n",
       "    }\n",
       "\n",
       "    .dataframe thead th {\n",
       "        text-align: right;\n",
       "    }\n",
       "</style>\n",
       "<table border=\"1\" class=\"dataframe\">\n",
       "  <thead>\n",
       "    <tr style=\"text-align: right;\">\n",
       "      <th></th>\n",
       "      <th>beer_style</th>\n",
       "      <th>polarity_score</th>\n",
       "      <th>review_overall</th>\n",
       "    </tr>\n",
       "  </thead>\n",
       "  <tbody>\n",
       "    <tr>\n",
       "      <th>86</th>\n",
       "      <td>Quadrupel (Quad)</td>\n",
       "      <td>0.856687</td>\n",
       "      <td>4.053349</td>\n",
       "    </tr>\n",
       "    <tr>\n",
       "      <th>38</th>\n",
       "      <td>Dortmunder / Export Lager</td>\n",
       "      <td>0.852883</td>\n",
       "      <td>4.071470</td>\n",
       "    </tr>\n",
       "    <tr>\n",
       "      <th>58</th>\n",
       "      <td>Flanders Red Ale</td>\n",
       "      <td>0.851888</td>\n",
       "      <td>3.968012</td>\n",
       "    </tr>\n",
       "    <tr>\n",
       "      <th>88</th>\n",
       "      <td>Roggenbier</td>\n",
       "      <td>0.851769</td>\n",
       "      <td>4.054745</td>\n",
       "    </tr>\n",
       "    <tr>\n",
       "      <th>32</th>\n",
       "      <td>Braggot</td>\n",
       "      <td>0.850409</td>\n",
       "      <td>3.647208</td>\n",
       "    </tr>\n",
       "    <tr>\n",
       "      <th>72</th>\n",
       "      <td>Kvass</td>\n",
       "      <td>0.850273</td>\n",
       "      <td>4.025773</td>\n",
       "    </tr>\n",
       "    <tr>\n",
       "      <th>11</th>\n",
       "      <td>American Double / Imperial Stout</td>\n",
       "      <td>0.847080</td>\n",
       "      <td>4.101682</td>\n",
       "    </tr>\n",
       "    <tr>\n",
       "      <th>101</th>\n",
       "      <td>Wheatwine</td>\n",
       "      <td>0.840098</td>\n",
       "      <td>3.817614</td>\n",
       "    </tr>\n",
       "    <tr>\n",
       "      <th>41</th>\n",
       "      <td>Eisbock</td>\n",
       "      <td>0.836985</td>\n",
       "      <td>4.082902</td>\n",
       "    </tr>\n",
       "    <tr>\n",
       "      <th>25</th>\n",
       "      <td>Belgian Strong Dark Ale</td>\n",
       "      <td>0.832818</td>\n",
       "      <td>4.010903</td>\n",
       "    </tr>\n",
       "  </tbody>\n",
       "</table>\n",
       "</div>"
      ],
      "text/plain": [
       "                           beer_style  polarity_score  review_overall\n",
       "86                   Quadrupel (Quad)        0.856687        4.053349\n",
       "38          Dortmunder / Export Lager        0.852883        4.071470\n",
       "58                   Flanders Red Ale        0.851888        3.968012\n",
       "88                         Roggenbier        0.851769        4.054745\n",
       "32                            Braggot        0.850409        3.647208\n",
       "72                              Kvass        0.850273        4.025773\n",
       "11   American Double / Imperial Stout        0.847080        4.101682\n",
       "101                         Wheatwine        0.840098        3.817614\n",
       "41                            Eisbock        0.836985        4.082902\n",
       "25            Belgian Strong Dark Ale        0.832818        4.010903"
      ]
     },
     "execution_count": 47,
     "metadata": {},
     "output_type": "execute_result"
    }
   ],
   "source": [
    "compare = reviewTextData.groupby('beer_style')['polarity_score','review_overall'].mean()\n",
    "                                            \n",
    "compare = pd.DataFrame(compare.reset_index()).sort_values(['polarity_score','review_overall'], ascending=[False,False])\n",
    "compare[:10]"
   ]
  },
  {
   "cell_type": "markdown",
   "metadata": {
    "id": "J8itRONKAJhV"
   },
   "source": [
    "By comparing overall review score with the written reviews, overall scores is more than 4 for most of the top beer style"
   ]
  },
  {
   "cell_type": "markdown",
   "metadata": {
    "id": "HsV0pJvDAJhV"
   },
   "source": [
    "# 7. How do find similar beer drinkers by using written reviews only?   "
   ]
  },
  {
   "cell_type": "code",
   "execution_count": 36,
   "metadata": {
    "id": "AE18PkjdAJhV",
    "outputId": "35c7969a-5f9a-45ef-bb97-27c23b7e8315"
   },
   "outputs": [
    {
     "data": {
      "text/plain": [
       "22563"
      ]
     },
     "execution_count": 36,
     "metadata": {},
     "output_type": "execute_result"
    }
   ],
   "source": [
    "len(set(df['review_profileName']))"
   ]
  },
  {
   "cell_type": "code",
   "execution_count": 37,
   "metadata": {
    "id": "VwinqBM4AJhW",
    "outputId": "cb5f523c-b8b1-445c-f4d3-af1408f9f898"
   },
   "outputs": [
    {
     "data": {
      "text/plain": [
       "'A lot of foam. But a lot. In the smell some banana, and then lactic and tart. Not a good start. Quite dark orange in color, with a lively carbonation (now visible, under the foam). Again tending to lactic sourness. Same for the taste. With some yeast and banana.'"
      ]
     },
     "execution_count": 37,
     "metadata": {},
     "output_type": "execute_result"
    }
   ],
   "source": [
    "df['review_text'][0]"
   ]
  },
  {
   "cell_type": "code",
   "execution_count": 9,
   "metadata": {
    "executionInfo": {
     "elapsed": 31939,
     "status": "ok",
     "timestamp": 1640342826978,
     "user": {
      "displayName": "ankita sontakke",
      "photoUrl": "https://lh3.googleusercontent.com/a-/AOh14GjG-GNO0FmKxJqv8ShEIf2vAWYW-yf5l9NkDiBu=s64",
      "userId": "07661496433956606698"
     },
     "user_tz": -330
    },
    "id": "0TqVc-A4AJhW"
   },
   "outputs": [],
   "source": [
    "#feature extraction\n",
    "from sklearn.feature_extraction.text import TfidfVectorizer\n",
    "df = df.sample(frac=1).reset_index()\n",
    "vectorizer = TfidfVectorizer(stop_words={'english'})\n",
    "X = vectorizer.fit_transform(df['review_text'][:100000])"
   ]
  },
  {
   "cell_type": "code",
   "execution_count": 35,
   "metadata": {
    "id": "eX2dPihiAJhW",
    "outputId": "61b0b491-a887-439b-9cba-1fa0e0b2475f"
   },
   "outputs": [],
   "source": [
    "# # KMean clustering to cluster similar drinkers based on their review\n",
    "# import matplotlib.pyplot as plt\n",
    "# from sklearn.cluster import KMeans\n",
    "# Sum_of_squared_distances = []\n",
    "# K = range(2,10)\n",
    "# for k in K:\n",
    "#     km = KMeans(n_clusters=k, max_iter=200, n_init=10)\n",
    "#     km = km.fit(X)\n",
    "#     Sum_of_squared_distances.append(km.inertia_)\n",
    "# plt.plot(K, Sum_of_squared_distances, 'bx-')\n",
    "# plt.xlabel('k')\n",
    "# plt.ylabel('Sum_of_squared_distances')\n",
    "# plt.title('Elbow Method For Optimal k')\n",
    "# plt.show()"
   ]
  },
  {
   "cell_type": "code",
   "execution_count": 10,
   "metadata": {
    "colab": {
     "base_uri": "https://localhost:8080/",
     "height": 519
    },
    "executionInfo": {
     "elapsed": 252320,
     "status": "ok",
     "timestamp": 1640343079275,
     "user": {
      "displayName": "ankita sontakke",
      "photoUrl": "https://lh3.googleusercontent.com/a-/AOh14GjG-GNO0FmKxJqv8ShEIf2vAWYW-yf5l9NkDiBu=s64",
      "userId": "07661496433956606698"
     },
     "user_tz": -330
    },
    "id": "M6s-129VAJhX",
    "outputId": "f10a0a51-92dc-4850-82c2-554a98cf2e09"
   },
   "outputs": [
    {
     "data": {
      "text/html": [
       "\n",
       "  <div id=\"df-431a0726-b433-465b-a698-f6baab93ca51\">\n",
       "    <div class=\"colab-df-container\">\n",
       "      <div>\n",
       "<style scoped>\n",
       "    .dataframe tbody tr th:only-of-type {\n",
       "        vertical-align: middle;\n",
       "    }\n",
       "\n",
       "    .dataframe tbody tr th {\n",
       "        vertical-align: top;\n",
       "    }\n",
       "\n",
       "    .dataframe thead th {\n",
       "        text-align: right;\n",
       "    }\n",
       "</style>\n",
       "<table border=\"1\" class=\"dataframe\">\n",
       "  <thead>\n",
       "    <tr style=\"text-align: right;\">\n",
       "      <th></th>\n",
       "      <th>index</th>\n",
       "      <th>beer_ABV</th>\n",
       "      <th>beer_beerId</th>\n",
       "      <th>beer_brewerId</th>\n",
       "      <th>beer_name</th>\n",
       "      <th>beer_style</th>\n",
       "      <th>review_appearance</th>\n",
       "      <th>review_palette</th>\n",
       "      <th>review_overall</th>\n",
       "      <th>review_taste</th>\n",
       "      <th>review_profileName</th>\n",
       "      <th>review_aroma</th>\n",
       "      <th>review_text</th>\n",
       "      <th>review_time</th>\n",
       "      <th>label</th>\n",
       "    </tr>\n",
       "  </thead>\n",
       "  <tbody>\n",
       "    <tr>\n",
       "      <th>0</th>\n",
       "      <td>124516</td>\n",
       "      <td>9.0</td>\n",
       "      <td>59770</td>\n",
       "      <td>273</td>\n",
       "      <td>Sweetwater Dank Tank Magnum IP</td>\n",
       "      <td>American Double / Imperial Pilsner</td>\n",
       "      <td>4.0</td>\n",
       "      <td>4.0</td>\n",
       "      <td>4.0</td>\n",
       "      <td>4.0</td>\n",
       "      <td>BeerAdvocate</td>\n",
       "      <td>4.0</td>\n",
       "      <td>Review from BeerAdvocate Magazine Issue #43 (A...</td>\n",
       "      <td>1294717864</td>\n",
       "      <td>3</td>\n",
       "    </tr>\n",
       "    <tr>\n",
       "      <th>1</th>\n",
       "      <td>257573</td>\n",
       "      <td>9.0</td>\n",
       "      <td>4718</td>\n",
       "      <td>841</td>\n",
       "      <td>Vapeur Cochonne</td>\n",
       "      <td>Belgian Strong Dark Ale</td>\n",
       "      <td>3.0</td>\n",
       "      <td>3.0</td>\n",
       "      <td>3.5</td>\n",
       "      <td>3.5</td>\n",
       "      <td>Tone</td>\n",
       "      <td>3.5</td>\n",
       "      <td>Pours a cloudy, brown color. 3/4 inch head of ...</td>\n",
       "      <td>1294790381</td>\n",
       "      <td>7</td>\n",
       "    </tr>\n",
       "    <tr>\n",
       "      <th>2</th>\n",
       "      <td>168697</td>\n",
       "      <td>7.0</td>\n",
       "      <td>2751</td>\n",
       "      <td>610</td>\n",
       "      <td>Racer 5 India Pale Ale</td>\n",
       "      <td>American IPA</td>\n",
       "      <td>4.0</td>\n",
       "      <td>4.5</td>\n",
       "      <td>4.0</td>\n",
       "      <td>4.5</td>\n",
       "      <td>CuttDeez</td>\n",
       "      <td>4.0</td>\n",
       "      <td>A- very nice golden amber pour with an incredi...</td>\n",
       "      <td>1295877725</td>\n",
       "      <td>2</td>\n",
       "    </tr>\n",
       "    <tr>\n",
       "      <th>3</th>\n",
       "      <td>423853</td>\n",
       "      <td>8.0</td>\n",
       "      <td>7728</td>\n",
       "      <td>697</td>\n",
       "      <td>Hitachino Nest Extra High (XH)</td>\n",
       "      <td>Belgian Strong Dark Ale</td>\n",
       "      <td>4.5</td>\n",
       "      <td>4.5</td>\n",
       "      <td>4.5</td>\n",
       "      <td>4.0</td>\n",
       "      <td>brentk56</td>\n",
       "      <td>4.5</td>\n",
       "      <td>Appearance: Pours a cloudy amber color with a ...</td>\n",
       "      <td>1226708551</td>\n",
       "      <td>5</td>\n",
       "    </tr>\n",
       "    <tr>\n",
       "      <th>4</th>\n",
       "      <td>270913</td>\n",
       "      <td>6.2</td>\n",
       "      <td>17009</td>\n",
       "      <td>68</td>\n",
       "      <td>Heller Hound Bock Beer</td>\n",
       "      <td>Maibock / Helles Bock</td>\n",
       "      <td>4.0</td>\n",
       "      <td>3.0</td>\n",
       "      <td>2.5</td>\n",
       "      <td>3.0</td>\n",
       "      <td>jdhilt</td>\n",
       "      <td>3.0</td>\n",
       "      <td>Pours a three finger white head that fades qui...</td>\n",
       "      <td>1166397868</td>\n",
       "      <td>9</td>\n",
       "    </tr>\n",
       "  </tbody>\n",
       "</table>\n",
       "</div>\n",
       "      <button class=\"colab-df-convert\" onclick=\"convertToInteractive('df-431a0726-b433-465b-a698-f6baab93ca51')\"\n",
       "              title=\"Convert this dataframe to an interactive table.\"\n",
       "              style=\"display:none;\">\n",
       "        \n",
       "  <svg xmlns=\"http://www.w3.org/2000/svg\" height=\"24px\"viewBox=\"0 0 24 24\"\n",
       "       width=\"24px\">\n",
       "    <path d=\"M0 0h24v24H0V0z\" fill=\"none\"/>\n",
       "    <path d=\"M18.56 5.44l.94 2.06.94-2.06 2.06-.94-2.06-.94-.94-2.06-.94 2.06-2.06.94zm-11 1L8.5 8.5l.94-2.06 2.06-.94-2.06-.94L8.5 2.5l-.94 2.06-2.06.94zm10 10l.94 2.06.94-2.06 2.06-.94-2.06-.94-.94-2.06-.94 2.06-2.06.94z\"/><path d=\"M17.41 7.96l-1.37-1.37c-.4-.4-.92-.59-1.43-.59-.52 0-1.04.2-1.43.59L10.3 9.45l-7.72 7.72c-.78.78-.78 2.05 0 2.83L4 21.41c.39.39.9.59 1.41.59.51 0 1.02-.2 1.41-.59l7.78-7.78 2.81-2.81c.8-.78.8-2.07 0-2.86zM5.41 20L4 18.59l7.72-7.72 1.47 1.35L5.41 20z\"/>\n",
       "  </svg>\n",
       "      </button>\n",
       "      \n",
       "  <style>\n",
       "    .colab-df-container {\n",
       "      display:flex;\n",
       "      flex-wrap:wrap;\n",
       "      gap: 12px;\n",
       "    }\n",
       "\n",
       "    .colab-df-convert {\n",
       "      background-color: #E8F0FE;\n",
       "      border: none;\n",
       "      border-radius: 50%;\n",
       "      cursor: pointer;\n",
       "      display: none;\n",
       "      fill: #1967D2;\n",
       "      height: 32px;\n",
       "      padding: 0 0 0 0;\n",
       "      width: 32px;\n",
       "    }\n",
       "\n",
       "    .colab-df-convert:hover {\n",
       "      background-color: #E2EBFA;\n",
       "      box-shadow: 0px 1px 2px rgba(60, 64, 67, 0.3), 0px 1px 3px 1px rgba(60, 64, 67, 0.15);\n",
       "      fill: #174EA6;\n",
       "    }\n",
       "\n",
       "    [theme=dark] .colab-df-convert {\n",
       "      background-color: #3B4455;\n",
       "      fill: #D2E3FC;\n",
       "    }\n",
       "\n",
       "    [theme=dark] .colab-df-convert:hover {\n",
       "      background-color: #434B5C;\n",
       "      box-shadow: 0px 1px 3px 1px rgba(0, 0, 0, 0.15);\n",
       "      filter: drop-shadow(0px 1px 2px rgba(0, 0, 0, 0.3));\n",
       "      fill: #FFFFFF;\n",
       "    }\n",
       "  </style>\n",
       "\n",
       "      <script>\n",
       "        const buttonEl =\n",
       "          document.querySelector('#df-431a0726-b433-465b-a698-f6baab93ca51 button.colab-df-convert');\n",
       "        buttonEl.style.display =\n",
       "          google.colab.kernel.accessAllowed ? 'block' : 'none';\n",
       "\n",
       "        async function convertToInteractive(key) {\n",
       "          const element = document.querySelector('#df-431a0726-b433-465b-a698-f6baab93ca51');\n",
       "          const dataTable =\n",
       "            await google.colab.kernel.invokeFunction('convertToInteractive',\n",
       "                                                     [key], {});\n",
       "          if (!dataTable) return;\n",
       "\n",
       "          const docLinkHtml = 'Like what you see? Visit the ' +\n",
       "            '<a target=\"_blank\" href=https://colab.research.google.com/notebooks/data_table.ipynb>data table notebook</a>'\n",
       "            + ' to learn more about interactive tables.';\n",
       "          element.innerHTML = '';\n",
       "          dataTable['output_type'] = 'display_data';\n",
       "          await google.colab.output.renderOutput(dataTable, element);\n",
       "          const docLink = document.createElement('div');\n",
       "          docLink.innerHTML = docLinkHtml;\n",
       "          element.appendChild(docLink);\n",
       "        }\n",
       "      </script>\n",
       "    </div>\n",
       "  </div>\n",
       "  "
      ],
      "text/plain": [
       "    index  beer_ABV  ...  review_time  label\n",
       "0  124516       9.0  ...   1294717864      3\n",
       "1  257573       9.0  ...   1294790381      7\n",
       "2  168697       7.0  ...   1295877725      2\n",
       "3  423853       8.0  ...   1226708551      5\n",
       "4  270913       6.2  ...   1166397868      9\n",
       "\n",
       "[5 rows x 15 columns]"
      ]
     },
     "execution_count": 10,
     "metadata": {},
     "output_type": "execute_result"
    }
   ],
   "source": [
    "import matplotlib.pyplot as plt\n",
    "from sklearn.cluster import KMeans\n",
    "\n",
    "#Taking 10 clusters\n",
    "km1=KMeans(n_clusters=10,  max_iter=200, n_init=10)\n",
    "km1.fit(X)\n",
    "\n",
    "y=km1.predict(X)\n",
    "\n",
    "df = df[:100000]\n",
    "df[\"label\"] = y\n",
    "df.head()"
   ]
  },
  {
   "cell_type": "code",
   "execution_count": 11,
   "metadata": {
    "colab": {
     "base_uri": "https://localhost:8080/",
     "height": 553
    },
    "executionInfo": {
     "elapsed": 26,
     "status": "ok",
     "timestamp": 1640343317085,
     "user": {
      "displayName": "ankita sontakke",
      "photoUrl": "https://lh3.googleusercontent.com/a-/AOh14GjG-GNO0FmKxJqv8ShEIf2vAWYW-yf5l9NkDiBu=s64",
      "userId": "07661496433956606698"
     },
     "user_tz": -330
    },
    "id": "rh6tT33TAJhX",
    "outputId": "a03ab2a5-76e2-4b68-ad68-0f8a6a538fa6"
   },
   "outputs": [
    {
     "data": {
      "text/html": [
       "\n",
       "  <div id=\"df-cce61b98-d759-4323-a96a-ff31e4b2eed8\">\n",
       "    <div class=\"colab-df-container\">\n",
       "      <div>\n",
       "<style scoped>\n",
       "    .dataframe tbody tr th:only-of-type {\n",
       "        vertical-align: middle;\n",
       "    }\n",
       "\n",
       "    .dataframe tbody tr th {\n",
       "        vertical-align: top;\n",
       "    }\n",
       "\n",
       "    .dataframe thead th {\n",
       "        text-align: right;\n",
       "    }\n",
       "</style>\n",
       "<table border=\"1\" class=\"dataframe\">\n",
       "  <thead>\n",
       "    <tr style=\"text-align: right;\">\n",
       "      <th></th>\n",
       "      <th>index</th>\n",
       "      <th>beer_ABV</th>\n",
       "      <th>beer_beerId</th>\n",
       "      <th>beer_brewerId</th>\n",
       "      <th>beer_name</th>\n",
       "      <th>beer_style</th>\n",
       "      <th>review_appearance</th>\n",
       "      <th>review_palette</th>\n",
       "      <th>review_overall</th>\n",
       "      <th>review_taste</th>\n",
       "      <th>review_profileName</th>\n",
       "      <th>review_aroma</th>\n",
       "      <th>review_text</th>\n",
       "      <th>review_time</th>\n",
       "      <th>label</th>\n",
       "    </tr>\n",
       "  </thead>\n",
       "  <tbody>\n",
       "    <tr>\n",
       "      <th>8</th>\n",
       "      <td>422445</td>\n",
       "      <td>5.8</td>\n",
       "      <td>226</td>\n",
       "      <td>73</td>\n",
       "      <td>Great Lakes Edmund Fitzgerald Porter</td>\n",
       "      <td>American Porter</td>\n",
       "      <td>4.5</td>\n",
       "      <td>4.0</td>\n",
       "      <td>4.0</td>\n",
       "      <td>4.0</td>\n",
       "      <td>Goblinmunkey7</td>\n",
       "      <td>4.0</td>\n",
       "      <td>Appearance: Deep dark brown. Nice and clear as...</td>\n",
       "      <td>1322865343</td>\n",
       "      <td>1</td>\n",
       "    </tr>\n",
       "    <tr>\n",
       "      <th>9</th>\n",
       "      <td>131917</td>\n",
       "      <td>10.0</td>\n",
       "      <td>34203</td>\n",
       "      <td>5318</td>\n",
       "      <td>Santa's Little Helper</td>\n",
       "      <td>Russian Imperial Stout</td>\n",
       "      <td>5.0</td>\n",
       "      <td>4.5</td>\n",
       "      <td>4.0</td>\n",
       "      <td>5.0</td>\n",
       "      <td>Crosling</td>\n",
       "      <td>4.5</td>\n",
       "      <td>Bottle # 411. It has a definately Belgian aspe...</td>\n",
       "      <td>1142733112</td>\n",
       "      <td>1</td>\n",
       "    </tr>\n",
       "    <tr>\n",
       "      <th>20</th>\n",
       "      <td>180060</td>\n",
       "      <td>12.0</td>\n",
       "      <td>3833</td>\n",
       "      <td>396</td>\n",
       "      <td>AleSmith Speedway Stout</td>\n",
       "      <td>American Double / Imperial Stout</td>\n",
       "      <td>4.0</td>\n",
       "      <td>4.0</td>\n",
       "      <td>4.5</td>\n",
       "      <td>4.0</td>\n",
       "      <td>Beejay</td>\n",
       "      <td>4.5</td>\n",
       "      <td>A: Obsidian Black. Fairly little head, what is...</td>\n",
       "      <td>1282530922</td>\n",
       "      <td>1</td>\n",
       "    </tr>\n",
       "    <tr>\n",
       "      <th>25</th>\n",
       "      <td>253919</td>\n",
       "      <td>9.5</td>\n",
       "      <td>10325</td>\n",
       "      <td>1141</td>\n",
       "      <td>Péché Mortel (Imperial Stout Au Cafe)</td>\n",
       "      <td>American Double / Imperial Stout</td>\n",
       "      <td>4.0</td>\n",
       "      <td>3.5</td>\n",
       "      <td>4.5</td>\n",
       "      <td>4.5</td>\n",
       "      <td>beerthulhu</td>\n",
       "      <td>4.5</td>\n",
       "      <td>A: Pitch black in the glass was topped off by ...</td>\n",
       "      <td>1270506622</td>\n",
       "      <td>1</td>\n",
       "    </tr>\n",
       "    <tr>\n",
       "      <th>31</th>\n",
       "      <td>312071</td>\n",
       "      <td>4.9</td>\n",
       "      <td>1879</td>\n",
       "      <td>35</td>\n",
       "      <td>Samuel Adams Cream Stout</td>\n",
       "      <td>Milk / Sweet Stout</td>\n",
       "      <td>4.0</td>\n",
       "      <td>4.0</td>\n",
       "      <td>4.5</td>\n",
       "      <td>4.0</td>\n",
       "      <td>mschofield</td>\n",
       "      <td>4.5</td>\n",
       "      <td>Deep brown (near black) with ruby fringe, 4 fi...</td>\n",
       "      <td>1069778654</td>\n",
       "      <td>1</td>\n",
       "    </tr>\n",
       "  </tbody>\n",
       "</table>\n",
       "</div>\n",
       "      <button class=\"colab-df-convert\" onclick=\"convertToInteractive('df-cce61b98-d759-4323-a96a-ff31e4b2eed8')\"\n",
       "              title=\"Convert this dataframe to an interactive table.\"\n",
       "              style=\"display:none;\">\n",
       "        \n",
       "  <svg xmlns=\"http://www.w3.org/2000/svg\" height=\"24px\"viewBox=\"0 0 24 24\"\n",
       "       width=\"24px\">\n",
       "    <path d=\"M0 0h24v24H0V0z\" fill=\"none\"/>\n",
       "    <path d=\"M18.56 5.44l.94 2.06.94-2.06 2.06-.94-2.06-.94-.94-2.06-.94 2.06-2.06.94zm-11 1L8.5 8.5l.94-2.06 2.06-.94-2.06-.94L8.5 2.5l-.94 2.06-2.06.94zm10 10l.94 2.06.94-2.06 2.06-.94-2.06-.94-.94-2.06-.94 2.06-2.06.94z\"/><path d=\"M17.41 7.96l-1.37-1.37c-.4-.4-.92-.59-1.43-.59-.52 0-1.04.2-1.43.59L10.3 9.45l-7.72 7.72c-.78.78-.78 2.05 0 2.83L4 21.41c.39.39.9.59 1.41.59.51 0 1.02-.2 1.41-.59l7.78-7.78 2.81-2.81c.8-.78.8-2.07 0-2.86zM5.41 20L4 18.59l7.72-7.72 1.47 1.35L5.41 20z\"/>\n",
       "  </svg>\n",
       "      </button>\n",
       "      \n",
       "  <style>\n",
       "    .colab-df-container {\n",
       "      display:flex;\n",
       "      flex-wrap:wrap;\n",
       "      gap: 12px;\n",
       "    }\n",
       "\n",
       "    .colab-df-convert {\n",
       "      background-color: #E8F0FE;\n",
       "      border: none;\n",
       "      border-radius: 50%;\n",
       "      cursor: pointer;\n",
       "      display: none;\n",
       "      fill: #1967D2;\n",
       "      height: 32px;\n",
       "      padding: 0 0 0 0;\n",
       "      width: 32px;\n",
       "    }\n",
       "\n",
       "    .colab-df-convert:hover {\n",
       "      background-color: #E2EBFA;\n",
       "      box-shadow: 0px 1px 2px rgba(60, 64, 67, 0.3), 0px 1px 3px 1px rgba(60, 64, 67, 0.15);\n",
       "      fill: #174EA6;\n",
       "    }\n",
       "\n",
       "    [theme=dark] .colab-df-convert {\n",
       "      background-color: #3B4455;\n",
       "      fill: #D2E3FC;\n",
       "    }\n",
       "\n",
       "    [theme=dark] .colab-df-convert:hover {\n",
       "      background-color: #434B5C;\n",
       "      box-shadow: 0px 1px 3px 1px rgba(0, 0, 0, 0.15);\n",
       "      filter: drop-shadow(0px 1px 2px rgba(0, 0, 0, 0.3));\n",
       "      fill: #FFFFFF;\n",
       "    }\n",
       "  </style>\n",
       "\n",
       "      <script>\n",
       "        const buttonEl =\n",
       "          document.querySelector('#df-cce61b98-d759-4323-a96a-ff31e4b2eed8 button.colab-df-convert');\n",
       "        buttonEl.style.display =\n",
       "          google.colab.kernel.accessAllowed ? 'block' : 'none';\n",
       "\n",
       "        async function convertToInteractive(key) {\n",
       "          const element = document.querySelector('#df-cce61b98-d759-4323-a96a-ff31e4b2eed8');\n",
       "          const dataTable =\n",
       "            await google.colab.kernel.invokeFunction('convertToInteractive',\n",
       "                                                     [key], {});\n",
       "          if (!dataTable) return;\n",
       "\n",
       "          const docLinkHtml = 'Like what you see? Visit the ' +\n",
       "            '<a target=\"_blank\" href=https://colab.research.google.com/notebooks/data_table.ipynb>data table notebook</a>'\n",
       "            + ' to learn more about interactive tables.';\n",
       "          element.innerHTML = '';\n",
       "          dataTable['output_type'] = 'display_data';\n",
       "          await google.colab.output.renderOutput(dataTable, element);\n",
       "          const docLink = document.createElement('div');\n",
       "          docLink.innerHTML = docLinkHtml;\n",
       "          element.appendChild(docLink);\n",
       "        }\n",
       "      </script>\n",
       "    </div>\n",
       "  </div>\n",
       "  "
      ],
      "text/plain": [
       "     index  beer_ABV  ...  review_time  label\n",
       "8   422445       5.8  ...   1322865343      1\n",
       "9   131917      10.0  ...   1142733112      1\n",
       "20  180060      12.0  ...   1282530922      1\n",
       "25  253919       9.5  ...   1270506622      1\n",
       "31  312071       4.9  ...   1069778654      1\n",
       "\n",
       "[5 rows x 15 columns]"
      ]
     },
     "execution_count": 11,
     "metadata": {},
     "output_type": "execute_result"
    }
   ],
   "source": [
    "#members of cluster 1 (similar drinkers)\n",
    "df[df['label']==1][:5]"
   ]
  },
  {
   "cell_type": "code",
   "execution_count": null,
   "metadata": {
    "id": "4_A5h63nAJhX"
   },
   "outputs": [],
   "source": []
  }
 ],
 "metadata": {
  "colab": {
   "collapsed_sections": [
    "W6U1WYN8AJhI",
    "kwIkC79sAJhK",
    "PrEKClCBAJhO",
    "zhsTmzIPAJhO",
    "3nmFu-yjAJhR"
   ],
   "name": "BeerDataScienceProject_evolentHealth.ipynb",
   "provenance": []
  },
  "kernelspec": {
   "display_name": "Python 3",
   "language": "python",
   "name": "python3"
  },
  "language_info": {
   "codemirror_mode": {
    "name": "ipython",
    "version": 3
   },
   "file_extension": ".py",
   "mimetype": "text/x-python",
   "name": "python",
   "nbconvert_exporter": "python",
   "pygments_lexer": "ipython3",
   "version": "3.7.6"
  }
 },
 "nbformat": 4,
 "nbformat_minor": 1
}
